{
  "cells": [
    {
      "cell_type": "markdown",
      "metadata": {
        "id": "view-in-github",
        "colab_type": "text"
      },
      "source": [
        "<a href=\"https://colab.research.google.com/github/Sunil-0507/AP22110011169/blob/main/Train_plant_disease.ipynb\" target=\"_parent\"><img src=\"https://colab.research.google.com/assets/colab-badge.svg\" alt=\"Open In Colab\"/></a>"
      ]
    },
    {
      "cell_type": "code",
      "execution_count": null,
      "metadata": {
        "id": "zygLMcp5tKpN",
        "colab": {
          "base_uri": "https://localhost:8080/"
        },
        "outputId": "c1888f22-d02e-4369-a3a5-e86de1b28c30"
      },
      "outputs": [
        {
          "output_type": "stream",
          "name": "stdout",
          "text": [
            "Mounted at /content/drive\n"
          ]
        }
      ],
      "source": [
        "from google.colab import drive\n",
        "drive.mount('/content/drive')\n"
      ]
    },
    {
      "cell_type": "markdown",
      "metadata": {
        "id": "c8VSns6fO6Pg"
      },
      "source": [
        "**Seeding for reproducibility**"
      ]
    },
    {
      "cell_type": "code",
      "execution_count": null,
      "metadata": {
        "id": "JSu8kpnEHDPB"
      },
      "outputs": [],
      "source": [
        "# Set seeds for reproducibility\n",
        "import random\n",
        "random.seed(0)\n",
        "\n",
        "import numpy as np\n",
        "np.random.seed(0)\n",
        "\n",
        "import tensorflow as tf\n",
        "tf.random.set_seed(0)"
      ]
    },
    {
      "cell_type": "markdown",
      "metadata": {
        "id": "Eyqk5_8AO1Kr"
      },
      "source": [
        "**Importing the dependencies**"
      ]
    },
    {
      "cell_type": "code",
      "execution_count": null,
      "metadata": {
        "id": "16dILovOOFy0"
      },
      "outputs": [],
      "source": [
        "import os\n",
        "import json\n",
        "from zipfile import ZipFile\n",
        "from PIL import Image\n",
        "\n",
        "import numpy as np\n",
        "import matplotlib.pyplot as plt\n",
        "import matplotlib.image as mpimg\n",
        "from tensorflow.keras.preprocessing.image import ImageDataGenerator\n",
        "from tensorflow.keras import layers, models"
      ]
    },
    {
      "cell_type": "code",
      "execution_count": null,
      "metadata": {
        "colab": {
          "base_uri": "https://localhost:8080/"
        },
        "id": "FKWvyGVDtALx",
        "outputId": "cbbcce86-bf47-4553-a42a-23a7ae2aac8b"
      },
      "outputs": [
        {
          "output_type": "stream",
          "name": "stdout",
          "text": [
            "Requirement already satisfied: kaggle in /usr/local/lib/python3.11/dist-packages (1.7.4.2)\n",
            "Requirement already satisfied: bleach in /usr/local/lib/python3.11/dist-packages (from kaggle) (6.2.0)\n",
            "Requirement already satisfied: certifi>=14.05.14 in /usr/local/lib/python3.11/dist-packages (from kaggle) (2025.1.31)\n",
            "Requirement already satisfied: charset-normalizer in /usr/local/lib/python3.11/dist-packages (from kaggle) (3.4.1)\n",
            "Requirement already satisfied: idna in /usr/local/lib/python3.11/dist-packages (from kaggle) (3.10)\n",
            "Requirement already satisfied: protobuf in /usr/local/lib/python3.11/dist-packages (from kaggle) (5.29.4)\n",
            "Requirement already satisfied: python-dateutil>=2.5.3 in /usr/local/lib/python3.11/dist-packages (from kaggle) (2.8.2)\n",
            "Requirement already satisfied: python-slugify in /usr/local/lib/python3.11/dist-packages (from kaggle) (8.0.4)\n",
            "Requirement already satisfied: requests in /usr/local/lib/python3.11/dist-packages (from kaggle) (2.32.3)\n",
            "Requirement already satisfied: setuptools>=21.0.0 in /usr/local/lib/python3.11/dist-packages (from kaggle) (75.2.0)\n",
            "Requirement already satisfied: six>=1.10 in /usr/local/lib/python3.11/dist-packages (from kaggle) (1.17.0)\n",
            "Requirement already satisfied: text-unidecode in /usr/local/lib/python3.11/dist-packages (from kaggle) (1.3)\n",
            "Requirement already satisfied: tqdm in /usr/local/lib/python3.11/dist-packages (from kaggle) (4.67.1)\n",
            "Requirement already satisfied: urllib3>=1.15.1 in /usr/local/lib/python3.11/dist-packages (from kaggle) (2.3.0)\n",
            "Requirement already satisfied: webencodings in /usr/local/lib/python3.11/dist-packages (from kaggle) (0.5.1)\n"
          ]
        }
      ],
      "source": [
        "!pip install kaggle"
      ]
    },
    {
      "cell_type": "code",
      "execution_count": null,
      "metadata": {
        "colab": {
          "base_uri": "https://localhost:8080/"
        },
        "id": "lX6uZbHtQJ6e",
        "outputId": "c84385ea-ff97-46a2-c2b8-b4a1efa8e1b8"
      },
      "outputs": [
        {
          "output_type": "stream",
          "name": "stdout",
          "text": [
            "drive  sample_data\n"
          ]
        }
      ],
      "source": [
        "!ls"
      ]
    },
    {
      "cell_type": "code",
      "execution_count": null,
      "metadata": {
        "id": "vF18g9gBQVKS"
      },
      "outputs": [],
      "source": [
        "kaggle_credentails = json.load(open(\"/content/drive/MyDrive/plant disease detection/kaggle.json\"))"
      ]
    },
    {
      "cell_type": "code",
      "source": [],
      "metadata": {
        "id": "AlWessBMPyHW"
      },
      "execution_count": null,
      "outputs": []
    },
    {
      "cell_type": "code",
      "execution_count": null,
      "metadata": {
        "id": "xWS6H5mPtNa_"
      },
      "outputs": [],
      "source": [
        "# setup Kaggle API key as environment variables\n",
        "os.environ['KAGGLE_USERNAME'] = kaggle_credentails[\"username\"]\n",
        "os.environ['KAGGLE_KEY'] = kaggle_credentails[\"key\"]"
      ]
    },
    {
      "cell_type": "code",
      "execution_count": null,
      "metadata": {
        "colab": {
          "base_uri": "https://localhost:8080/"
        },
        "id": "ypPVDLobtUr5",
        "outputId": "d5aec48c-32a3-4910-9dd8-e2d9dd452dcb"
      },
      "outputs": [
        {
          "output_type": "stream",
          "name": "stdout",
          "text": [
            "Dataset URL: https://www.kaggle.com/datasets/vipoooool/new-plant-diseases-dataset\n",
            "License(s): copyright-authors\n"
          ]
        }
      ],
      "source": [
        "!kaggle datasets download -d vipoooool/new-plant-diseases-dataset\n"
      ]
    },
    {
      "cell_type": "code",
      "execution_count": null,
      "metadata": {
        "colab": {
          "base_uri": "https://localhost:8080/"
        },
        "id": "20t7J2zctdou",
        "outputId": "8f26b8a1-b92a-40c3-a9c0-7b0ab2ca7e8b"
      },
      "outputs": [
        {
          "output_type": "stream",
          "name": "stdout",
          "text": [
            "drive  new-plant-diseases-dataset.zip  sample_data\n"
          ]
        }
      ],
      "source": [
        "!ls"
      ]
    },
    {
      "cell_type": "code",
      "execution_count": null,
      "metadata": {
        "id": "cjVbT1ZItYe2"
      },
      "outputs": [],
      "source": [
        "with ZipFile(\"/content/new-plant-diseases-dataset.zip\", 'r') as zip_ref:\n",
        "    zip_ref.extractall()"
      ]
    },
    {
      "cell_type": "markdown",
      "metadata": {
        "id": "QGHDbCNaP1xH"
      },
      "source": [
        "**Plant disease prediction Training and validation Phase**"
      ]
    },
    {
      "cell_type": "markdown",
      "metadata": {
        "id": "mlYgUZEYRTni"
      },
      "source": [
        "**Importing libraries**"
      ]
    },
    {
      "cell_type": "code",
      "execution_count": null,
      "metadata": {
        "id": "wBHcUB25Rd7_"
      },
      "outputs": [],
      "source": [
        "import tensorflow as tf\n",
        "import matplotlib.pyplot as plt\n",
        "import pandas as pd\n",
        "import seaborn as sns"
      ]
    },
    {
      "cell_type": "markdown",
      "metadata": {
        "id": "QAtHUtXQRj-m"
      },
      "source": [
        "**Data Preprocessing**"
      ]
    },
    {
      "cell_type": "markdown",
      "metadata": {
        "id": "KzJwARF8RrIL"
      },
      "source": [
        "**Training Image preprocessing**"
      ]
    },
    {
      "cell_type": "code",
      "source": [],
      "metadata": {
        "id": "0e-6xsA1P2Nx"
      },
      "execution_count": null,
      "outputs": []
    },
    {
      "cell_type": "code",
      "execution_count": null,
      "metadata": {
        "colab": {
          "base_uri": "https://localhost:8080/"
        },
        "id": "IGtjs2NNRuxH",
        "outputId": "c2b8d188-0c3c-4a33-faf1-a26163d8a9c3"
      },
      "outputs": [
        {
          "output_type": "stream",
          "name": "stdout",
          "text": [
            "Found 70295 files belonging to 38 classes.\n"
          ]
        }
      ],
      "source": [
        "import tensorflow as tf\n",
        "\n",
        "train_dir = \"/content/new plant diseases dataset(augmented)/New Plant Diseases Dataset(Augmented)/train\"\n",
        "\n",
        "training_set = tf.keras.utils.image_dataset_from_directory(\n",
        "    directory=train_dir,  # Use variable\n",
        "    labels=\"inferred\",\n",
        "    label_mode=\"categorical\",\n",
        "    batch_size=32,\n",
        "    image_size=(128, 128),\n",
        "    shuffle=True,\n",
        "    interpolation=\"bilinear\",\n",
        ")"
      ]
    },
    {
      "cell_type": "markdown",
      "metadata": {
        "id": "22l5Z1D2R1zB"
      },
      "source": [
        "**Validation Image Preprocessing**"
      ]
    },
    {
      "cell_type": "code",
      "execution_count": null,
      "metadata": {
        "colab": {
          "base_uri": "https://localhost:8080/"
        },
        "id": "cHfTe48aR5Tz",
        "outputId": "6e03b3fa-0416-45c3-df30-4700e21e41d9"
      },
      "outputs": [
        {
          "output_type": "stream",
          "name": "stdout",
          "text": [
            "Found 17572 files belonging to 38 classes.\n"
          ]
        }
      ],
      "source": [
        "import tensorflow as tf\n",
        "\n",
        "# Define the correct path to the validation dataset\n",
        "valid_dir = \"/content/new plant diseases dataset(augmented)/New Plant Diseases Dataset(Augmented)/valid\"\n",
        "\n",
        "# Load validation dataset\n",
        "validation_set = tf.keras.utils.image_dataset_from_directory(\n",
        "    directory=valid_dir,  # Corrected path usage\n",
        "    labels=\"inferred\",\n",
        "    label_mode=\"categorical\",\n",
        "    batch_size=32,\n",
        "    image_size=(128, 128),\n",
        "    shuffle=True,\n",
        "    interpolation=\"bilinear\",\n",
        ")\n"
      ]
    },
    {
      "cell_type": "code",
      "execution_count": null,
      "metadata": {
        "colab": {
          "base_uri": "https://localhost:8080/"
        },
        "id": "gRG9HV10S94V",
        "outputId": "d65a49cb-32de-4fb1-8d13-152f205b7bcc"
      },
      "outputs": [
        {
          "output_type": "execute_result",
          "data": {
            "text/plain": [
              "<_PrefetchDataset element_spec=(TensorSpec(shape=(None, 128, 128, 3), dtype=tf.float32, name=None), TensorSpec(shape=(None, 38), dtype=tf.float32, name=None))>"
            ]
          },
          "metadata": {},
          "execution_count": 14
        }
      ],
      "source": [
        "training_set"
      ]
    },
    {
      "cell_type": "code",
      "execution_count": null,
      "metadata": {
        "colab": {
          "base_uri": "https://localhost:8080/"
        },
        "id": "GK2VwVkqTDtG",
        "outputId": "8878cab3-982a-4894-d8cd-dd21a186d6b8"
      },
      "outputs": [
        {
          "output_type": "stream",
          "name": "stdout",
          "text": [
            "tf.Tensor(\n",
            "[[[[102.25  98.25 113.25]\n",
            "   [108.75 104.75 119.75]\n",
            "   [ 95.25  91.25 106.25]\n",
            "   ...\n",
            "   [154.   157.   176.  ]\n",
            "   [149.   152.   171.  ]\n",
            "   [151.75 154.75 173.75]]\n",
            "\n",
            "  [[ 94.25  90.25 105.25]\n",
            "   [104.5  100.5  115.5 ]\n",
            "   [ 98.    94.   109.  ]\n",
            "   ...\n",
            "   [153.75 156.75 175.75]\n",
            "   [151.5  154.5  173.5 ]\n",
            "   [154.75 157.75 176.75]]\n",
            "\n",
            "  [[ 96.75  92.75 107.75]\n",
            "   [ 93.25  89.25 104.25]\n",
            "   [ 77.25  73.25  88.25]\n",
            "   ...\n",
            "   [158.   161.   180.  ]\n",
            "   [157.   160.   179.  ]\n",
            "   [160.5  163.5  182.5 ]]\n",
            "\n",
            "  ...\n",
            "\n",
            "  [[ 79.75  74.75  94.75]\n",
            "   [ 84.5   79.5   99.5 ]\n",
            "   [ 80.5   75.5   95.5 ]\n",
            "   ...\n",
            "   [147.25 148.25 168.25]\n",
            "   [147.5  148.5  168.5 ]\n",
            "   [142.5  143.5  163.5 ]]\n",
            "\n",
            "  [[ 86.    81.   101.  ]\n",
            "   [ 74.75  69.75  89.75]\n",
            "   [ 77.75  72.75  92.75]\n",
            "   ...\n",
            "   [140.75 141.75 161.75]\n",
            "   [142.25 143.25 163.25]\n",
            "   [139.75 140.75 160.75]]\n",
            "\n",
            "  [[ 83.25  78.25  98.25]\n",
            "   [ 89.    84.   104.  ]\n",
            "   [ 97.75  92.75 112.75]\n",
            "   ...\n",
            "   [138.25 139.25 159.25]\n",
            "   [134.75 135.75 155.75]\n",
            "   [134.   135.   155.  ]]]\n",
            "\n",
            "\n",
            " [[[105.5  101.5  102.5 ]\n",
            "   [ 98.5   94.5   95.5 ]\n",
            "   [ 98.25  94.25  95.25]\n",
            "   ...\n",
            "   [ 83.5   83.5   83.5 ]\n",
            "   [ 89.5   89.5   89.5 ]\n",
            "   [ 82.5   82.5   82.5 ]]\n",
            "\n",
            "  [[103.25  99.25 100.25]\n",
            "   [104.25 100.25 101.25]\n",
            "   [103.25  99.25 100.25]\n",
            "   ...\n",
            "   [ 86.25  86.25  86.25]\n",
            "   [ 94.25  94.25  94.25]\n",
            "   [ 94.5   94.5   94.5 ]]\n",
            "\n",
            "  [[101.5   97.5   98.5 ]\n",
            "   [101.5   97.5   98.5 ]\n",
            "   [105.   101.   102.  ]\n",
            "   ...\n",
            "   [ 88.25  88.25  88.25]\n",
            "   [ 89.25  89.25  89.25]\n",
            "   [ 94.    94.    94.  ]]\n",
            "\n",
            "  ...\n",
            "\n",
            "  [[130.25 134.25 137.25]\n",
            "   [133.   137.   140.  ]\n",
            "   [133.   137.   140.  ]\n",
            "   ...\n",
            "   [ 70.75  82.75  47.75]\n",
            "   [ 74.75  87.    49.25]\n",
            "   [ 85.5   98.5   58.75]]\n",
            "\n",
            "  [[129.75 133.75 136.75]\n",
            "   [132.5  136.5  139.5 ]\n",
            "   [132.5  136.5  139.5 ]\n",
            "   ...\n",
            "   [113.75 117.25 100.75]\n",
            "   [113.5  117.    99.25]\n",
            "   [107.25 110.25  92.5 ]]\n",
            "\n",
            "  [[129.   133.   136.  ]\n",
            "   [128.5  132.5  135.5 ]\n",
            "   [128.5  132.5  135.5 ]\n",
            "   ...\n",
            "   [129.5  128.5  125.25]\n",
            "   [126.   123.75 119.  ]\n",
            "   [114.5  111.75 107.  ]]]\n",
            "\n",
            "\n",
            " [[[150.25 151.25 143.25]\n",
            "   [149.5  150.5  142.5 ]\n",
            "   [151.5  152.5  144.5 ]\n",
            "   ...\n",
            "   [140.   145.   139.  ]\n",
            "   [135.75 140.75 134.75]\n",
            "   [133.75 138.75 132.75]]\n",
            "\n",
            "  [[148.25 149.25 141.25]\n",
            "   [146.5  147.5  139.5 ]\n",
            "   [147.5  148.5  140.5 ]\n",
            "   ...\n",
            "   [135.5  140.5  134.5 ]\n",
            "   [133.75 138.75 132.75]\n",
            "   [135.5  140.5  134.5 ]]\n",
            "\n",
            "  [[151.5  152.5  144.5 ]\n",
            "   [148.25 149.25 141.25]\n",
            "   [147.75 148.75 140.75]\n",
            "   ...\n",
            "   [136.5  141.5  135.5 ]\n",
            "   [136.75 141.75 135.75]\n",
            "   [141.   146.   140.  ]]\n",
            "\n",
            "  ...\n",
            "\n",
            "  [[ 97.75  98.75  93.75]\n",
            "   [ 97.75  98.75  93.75]\n",
            "   [ 97.25  98.25  93.25]\n",
            "   ...\n",
            "   [ 93.5   97.5   96.5 ]\n",
            "   [ 97.75 101.75 100.75]\n",
            "   [ 98.25 102.25 101.25]]\n",
            "\n",
            "  [[ 97.25  98.25  93.25]\n",
            "   [ 89.25  90.25  85.25]\n",
            "   [100.   101.    96.  ]\n",
            "   ...\n",
            "   [104.   108.   107.  ]\n",
            "   [100.25 104.25 103.25]\n",
            "   [ 97.75 101.75 100.75]]\n",
            "\n",
            "  [[ 95.    96.    91.  ]\n",
            "   [ 92.75  93.75  88.75]\n",
            "   [ 91.75  92.75  87.75]\n",
            "   ...\n",
            "   [103.   107.   106.  ]\n",
            "   [ 95.75  99.75  98.75]\n",
            "   [ 92.    96.    95.  ]]]\n",
            "\n",
            "\n",
            " ...\n",
            "\n",
            "\n",
            " [[[ 87.25  78.25  74.5 ]\n",
            "   [178.5  169.5  164.5 ]\n",
            "   [177.   168.   163.  ]\n",
            "   ...\n",
            "   [171.75 154.75 147.75]\n",
            "   [167.25 150.25 143.25]\n",
            "   [168.   151.   144.  ]]\n",
            "\n",
            "  [[ 89.    80.    76.25]\n",
            "   [178.25 169.25 164.25]\n",
            "   [179.75 170.75 165.75]\n",
            "   ...\n",
            "   [175.5  158.5  151.5 ]\n",
            "   [167.5  150.5  143.5 ]\n",
            "   [162.25 145.25 138.25]]\n",
            "\n",
            "  [[ 94.75  86.5   84.  ]\n",
            "   [190.   181.   176.  ]\n",
            "   [184.25 175.25 170.25]\n",
            "   ...\n",
            "   [179.5  162.5  155.5 ]\n",
            "   [169.   152.   145.  ]\n",
            "   [162.   145.   138.  ]]\n",
            "\n",
            "  ...\n",
            "\n",
            "  [[ 84.5   75.5   74.5 ]\n",
            "   [167.   157.   155.  ]\n",
            "   [176.75 166.75 164.75]\n",
            "   ...\n",
            "   [176.25 163.25 157.25]\n",
            "   [180.5  167.5  161.5 ]\n",
            "   [183.   170.   164.  ]]\n",
            "\n",
            "  [[ 90.75  81.5   80.5 ]\n",
            "   [187.25 177.25 175.25]\n",
            "   [184.25 174.25 172.25]\n",
            "   ...\n",
            "   [183.   170.   164.  ]\n",
            "   [181.   168.   162.  ]\n",
            "   [182.5  169.5  163.5 ]]\n",
            "\n",
            "  [[ 88.    79.5   78.5 ]\n",
            "   [175.   165.   163.  ]\n",
            "   [177.5  167.5  165.5 ]\n",
            "   ...\n",
            "   [181.25 168.25 162.25]\n",
            "   [182.75 169.75 163.75]\n",
            "   [184.   171.   165.  ]]]\n",
            "\n",
            "\n",
            " [[[115.5  100.5  105.5 ]\n",
            "   [105.    90.    95.  ]\n",
            "   [112.    97.   102.  ]\n",
            "   ...\n",
            "   [126.25 111.25 116.25]\n",
            "   [114.25  99.25 104.25]\n",
            "   [112.5   97.5  102.5 ]]\n",
            "\n",
            "  [[102.25  87.25  92.25]\n",
            "   [113.5   98.5  103.5 ]\n",
            "   [120.5  105.5  110.5 ]\n",
            "   ...\n",
            "   [116.25 101.25 106.25]\n",
            "   [126.75 111.75 116.75]\n",
            "   [124.5  109.5  114.5 ]]\n",
            "\n",
            "  [[130.   115.   120.  ]\n",
            "   [126.25 111.25 116.25]\n",
            "   [ 99.    84.    89.  ]\n",
            "   ...\n",
            "   [114.    99.   104.  ]\n",
            "   [134.75 119.75 124.75]\n",
            "   [123.5  108.5  113.5 ]]\n",
            "\n",
            "  ...\n",
            "\n",
            "  [[167.75 158.75 163.75]\n",
            "   [171.   162.   167.  ]\n",
            "   [178.75 169.75 174.75]\n",
            "   ...\n",
            "   [163.   153.   161.  ]\n",
            "   [170.75 160.75 168.75]\n",
            "   [168.25 158.25 166.25]]\n",
            "\n",
            "  [[174.25 165.25 170.25]\n",
            "   [169.25 160.25 165.25]\n",
            "   [176.25 167.25 172.25]\n",
            "   ...\n",
            "   [169.5  159.5  167.5 ]\n",
            "   [175.25 165.25 173.25]\n",
            "   [171.75 161.75 169.75]]\n",
            "\n",
            "  [[167.75 158.75 163.75]\n",
            "   [171.75 162.75 167.75]\n",
            "   [176.25 167.25 172.25]\n",
            "   ...\n",
            "   [172.5  162.5  170.5 ]\n",
            "   [169.5  159.5  167.5 ]\n",
            "   [164.25 154.25 162.25]]]\n",
            "\n",
            "\n",
            " [[[119.75 122.25 106.75]\n",
            "   [111.75 115.25  92.25]\n",
            "   [118.75 122.25  88.75]\n",
            "   ...\n",
            "   [125.75 130.25 116.75]\n",
            "   [131.   128.5  127.  ]\n",
            "   [136.75 127.25 133.75]]\n",
            "\n",
            "  [[112.   112.25  95.5 ]\n",
            "   [109.5  111.75  88.5 ]\n",
            "   [114.25 118.25  83.  ]\n",
            "   ...\n",
            "   [129.   133.5  120.  ]\n",
            "   [131.25 128.75 127.25]\n",
            "   [138.25 128.75 135.25]]\n",
            "\n",
            "  [[ 80.25  77.    61.  ]\n",
            "   [ 81.75  81.    57.5 ]\n",
            "   [134.75 136.25 100.75]\n",
            "   ...\n",
            "   [133.5  138.   124.5 ]\n",
            "   [131.5  129.   127.5 ]\n",
            "   [139.   129.5  136.  ]]\n",
            "\n",
            "  ...\n",
            "\n",
            "  [[104.   118.75  95.25]\n",
            "   [125.5  138.75 112.5 ]\n",
            "   [105.75 116.5   86.75]\n",
            "   ...\n",
            "   [143.5  136.5  144.5 ]\n",
            "   [143.75 136.75 144.75]\n",
            "   [139.75 132.75 140.75]]\n",
            "\n",
            "  [[ 94.5  108.75  82.25]\n",
            "   [120.   133.   105.  ]\n",
            "   [120.   131.25  97.25]\n",
            "   ...\n",
            "   [143.75 136.75 144.75]\n",
            "   [143.5  136.5  144.5 ]\n",
            "   [139.   132.   140.  ]]\n",
            "\n",
            "  [[118.   131.   102.5 ]\n",
            "   [101.5  115.    83.  ]\n",
            "   [ 93.   104.5   69.  ]\n",
            "   ...\n",
            "   [142.5  135.5  143.5 ]\n",
            "   [141.25 134.25 142.25]\n",
            "   [139.75 132.75 140.75]]]], shape=(32, 128, 128, 3), dtype=float32) (32, 128, 128, 3)\n",
            "tf.Tensor(\n",
            "[[0. 0. 0. ... 0. 0. 0.]\n",
            " [0. 0. 0. ... 0. 0. 0.]\n",
            " [0. 0. 0. ... 1. 0. 0.]\n",
            " ...\n",
            " [0. 0. 0. ... 0. 0. 0.]\n",
            " [0. 0. 0. ... 0. 0. 0.]\n",
            " [0. 0. 0. ... 0. 0. 0.]], shape=(32, 38), dtype=float32) (32, 38)\n"
          ]
        }
      ],
      "source": [
        "for x,y in training_set:\n",
        "  print(x, x.shape)\n",
        "  print(y, y.shape)\n",
        "  break"
      ]
    },
    {
      "cell_type": "markdown",
      "metadata": {
        "id": "Jkz9GcD5Vy5M"
      },
      "source": [
        "\n",
        "To avoid Overshooting Loss function\n",
        "\n",
        "    1.Choose small learning rate default 0.001 here we have taken 0.0001\n",
        "    2.There may be chance of underfitting so increase number of neuron\n",
        "    3.Add more Convolutional Layer to extract more feature from images there may be possibilty that model unable to capture relevant feature or model is confusing due to lack of feature so feed with more feature\n",
        "\n"
      ]
    },
    {
      "cell_type": "markdown",
      "metadata": {
        "id": "vLSQU1m4T6yQ"
      },
      "source": [
        "**Building Model**"
      ]
    },
    {
      "cell_type": "code",
      "execution_count": null,
      "metadata": {
        "id": "bdEn9XhFT4HN"
      },
      "outputs": [],
      "source": [
        "cnn = tf.keras.models.Sequential()"
      ]
    },
    {
      "cell_type": "markdown",
      "metadata": {
        "id": "PmveoHpjT-ZJ"
      },
      "source": [
        "**Building Convolution Layer**"
      ]
    },
    {
      "cell_type": "code",
      "execution_count": null,
      "metadata": {
        "colab": {
          "base_uri": "https://localhost:8080/"
        },
        "id": "ioMuTOD5UvAd",
        "outputId": "84a15a49-70d1-471d-d797-60ba04dda76f"
      },
      "outputs": [
        {
          "output_type": "stream",
          "name": "stderr",
          "text": [
            "/usr/local/lib/python3.11/dist-packages/keras/src/layers/convolutional/base_conv.py:107: UserWarning: Do not pass an `input_shape`/`input_dim` argument to a layer. When using Sequential models, prefer using an `Input(shape)` object as the first layer in the model instead.\n",
            "  super().__init__(activity_regularizer=activity_regularizer, **kwargs)\n"
          ]
        }
      ],
      "source": [
        "cnn.add(tf.keras.layers.Conv2D(filters=32,kernel_size=3,padding='same',activation='relu',input_shape=[128,128,3]))\n",
        "cnn.add(tf.keras.layers.Conv2D(filters=32,kernel_size=3,activation='relu'))\n",
        "cnn.add(tf.keras.layers.MaxPool2D(pool_size=2,strides=2))"
      ]
    },
    {
      "cell_type": "code",
      "execution_count": null,
      "metadata": {
        "id": "XP3hu5ZDU0uj"
      },
      "outputs": [],
      "source": [
        "cnn.add(tf.keras.layers.Conv2D(filters=64,kernel_size=3,padding='same',activation='relu'))\n",
        "cnn.add(tf.keras.layers.Conv2D(filters=64,kernel_size=3,activation='relu'))\n",
        "cnn.add(tf.keras.layers.MaxPool2D(pool_size=2,strides=2))"
      ]
    },
    {
      "cell_type": "code",
      "execution_count": null,
      "metadata": {
        "id": "0o6PSfi0U3ef"
      },
      "outputs": [],
      "source": [
        "cnn.add(tf.keras.layers.Conv2D(filters=128,kernel_size=3,padding='same',activation='relu'))\n",
        "cnn.add(tf.keras.layers.Conv2D(filters=128,kernel_size=3,activation='relu'))\n",
        "cnn.add(tf.keras.layers.MaxPool2D(pool_size=2,strides=2))"
      ]
    },
    {
      "cell_type": "code",
      "execution_count": null,
      "metadata": {
        "id": "jHVKunAfU5id"
      },
      "outputs": [],
      "source": [
        "cnn.add(tf.keras.layers.Conv2D(filters=256,kernel_size=3,padding='same',activation='relu'))\n",
        "cnn.add(tf.keras.layers.Conv2D(filters=256,kernel_size=3,activation='relu'))\n",
        "cnn.add(tf.keras.layers.MaxPool2D(pool_size=2,strides=2))"
      ]
    },
    {
      "cell_type": "code",
      "execution_count": null,
      "metadata": {
        "id": "E2gUN3-4U87n"
      },
      "outputs": [],
      "source": [
        "cnn.add(tf.keras.layers.Conv2D(filters=512,kernel_size=3,padding='same',activation='relu'))\n",
        "cnn.add(tf.keras.layers.Conv2D(filters=512,kernel_size=3,activation='relu'))\n",
        "cnn.add(tf.keras.layers.MaxPool2D(pool_size=2,strides=2))"
      ]
    },
    {
      "cell_type": "code",
      "execution_count": null,
      "metadata": {
        "id": "6oDW7P2aU_FT"
      },
      "outputs": [],
      "source": [
        "cnn.add(tf.keras.layers.Dropout(0.25))"
      ]
    },
    {
      "cell_type": "code",
      "execution_count": null,
      "metadata": {
        "id": "aXQiKMlyVBI6"
      },
      "outputs": [],
      "source": [
        "cnn.add(tf.keras.layers.Flatten())"
      ]
    },
    {
      "cell_type": "code",
      "execution_count": null,
      "metadata": {
        "id": "sCyPscUSVDQ0"
      },
      "outputs": [],
      "source": [
        "cnn.add(tf.keras.layers.Dense(units=1500,activation='relu'))"
      ]
    },
    {
      "cell_type": "code",
      "execution_count": null,
      "metadata": {
        "id": "Er-TTHWRVFz1"
      },
      "outputs": [],
      "source": [
        "cnn.add(tf.keras.layers.Dropout(0.4)) #To avoid overfitting"
      ]
    },
    {
      "cell_type": "code",
      "execution_count": null,
      "metadata": {
        "id": "0NS08_POVHnJ"
      },
      "outputs": [],
      "source": [
        "#Output Layer\n",
        "cnn.add(tf.keras.layers.Dense(units=38,activation='softmax'))"
      ]
    },
    {
      "cell_type": "markdown",
      "metadata": {
        "id": "1PQYj5bKVV15"
      },
      "source": [
        "**Compiling and Training Phase**"
      ]
    },
    {
      "cell_type": "code",
      "execution_count": null,
      "metadata": {
        "id": "GAQaXtCCVL_f"
      },
      "outputs": [],
      "source": [
        "import tensorflow as tf\n",
        "\n",
        "cnn.compile(\n",
        "    optimizer=tf.keras.optimizers.Adam(learning_rate=0.0001),  # Remove 'legacy'\n",
        "    loss='categorical_crossentropy',\n",
        "    metrics=['accuracy']\n",
        ")\n"
      ]
    },
    {
      "cell_type": "code",
      "execution_count": null,
      "metadata": {
        "colab": {
          "base_uri": "https://localhost:8080/",
          "height": 769
        },
        "id": "fPqtu2FMVOWc",
        "outputId": "fd85cc3e-9be3-4249-fda1-1075447e747d"
      },
      "outputs": [
        {
          "output_type": "display_data",
          "data": {
            "text/plain": [
              "\u001b[1mModel: \"sequential\"\u001b[0m\n"
            ],
            "text/html": [
              "<pre style=\"white-space:pre;overflow-x:auto;line-height:normal;font-family:Menlo,'DejaVu Sans Mono',consolas,'Courier New',monospace\"><span style=\"font-weight: bold\">Model: \"sequential\"</span>\n",
              "</pre>\n"
            ]
          },
          "metadata": {}
        },
        {
          "output_type": "display_data",
          "data": {
            "text/plain": [
              "┏━━━━━━━━━━━━━━━━━━━━━━━━━━━━━━━━━┳━━━━━━━━━━━━━━━━━━━━━━━━┳━━━━━━━━━━━━━━━┓\n",
              "┃\u001b[1m \u001b[0m\u001b[1mLayer (type)                   \u001b[0m\u001b[1m \u001b[0m┃\u001b[1m \u001b[0m\u001b[1mOutput Shape          \u001b[0m\u001b[1m \u001b[0m┃\u001b[1m \u001b[0m\u001b[1m      Param #\u001b[0m\u001b[1m \u001b[0m┃\n",
              "┡━━━━━━━━━━━━━━━━━━━━━━━━━━━━━━━━━╇━━━━━━━━━━━━━━━━━━━━━━━━╇━━━━━━━━━━━━━━━┩\n",
              "│ conv2d (\u001b[38;5;33mConv2D\u001b[0m)                 │ (\u001b[38;5;45mNone\u001b[0m, \u001b[38;5;34m128\u001b[0m, \u001b[38;5;34m128\u001b[0m, \u001b[38;5;34m32\u001b[0m)   │           \u001b[38;5;34m896\u001b[0m │\n",
              "├─────────────────────────────────┼────────────────────────┼───────────────┤\n",
              "│ conv2d_1 (\u001b[38;5;33mConv2D\u001b[0m)               │ (\u001b[38;5;45mNone\u001b[0m, \u001b[38;5;34m126\u001b[0m, \u001b[38;5;34m126\u001b[0m, \u001b[38;5;34m32\u001b[0m)   │         \u001b[38;5;34m9,248\u001b[0m │\n",
              "├─────────────────────────────────┼────────────────────────┼───────────────┤\n",
              "│ max_pooling2d (\u001b[38;5;33mMaxPooling2D\u001b[0m)    │ (\u001b[38;5;45mNone\u001b[0m, \u001b[38;5;34m63\u001b[0m, \u001b[38;5;34m63\u001b[0m, \u001b[38;5;34m32\u001b[0m)     │             \u001b[38;5;34m0\u001b[0m │\n",
              "├─────────────────────────────────┼────────────────────────┼───────────────┤\n",
              "│ conv2d_2 (\u001b[38;5;33mConv2D\u001b[0m)               │ (\u001b[38;5;45mNone\u001b[0m, \u001b[38;5;34m63\u001b[0m, \u001b[38;5;34m63\u001b[0m, \u001b[38;5;34m64\u001b[0m)     │        \u001b[38;5;34m18,496\u001b[0m │\n",
              "├─────────────────────────────────┼────────────────────────┼───────────────┤\n",
              "│ conv2d_3 (\u001b[38;5;33mConv2D\u001b[0m)               │ (\u001b[38;5;45mNone\u001b[0m, \u001b[38;5;34m61\u001b[0m, \u001b[38;5;34m61\u001b[0m, \u001b[38;5;34m64\u001b[0m)     │        \u001b[38;5;34m36,928\u001b[0m │\n",
              "├─────────────────────────────────┼────────────────────────┼───────────────┤\n",
              "│ max_pooling2d_1 (\u001b[38;5;33mMaxPooling2D\u001b[0m)  │ (\u001b[38;5;45mNone\u001b[0m, \u001b[38;5;34m30\u001b[0m, \u001b[38;5;34m30\u001b[0m, \u001b[38;5;34m64\u001b[0m)     │             \u001b[38;5;34m0\u001b[0m │\n",
              "├─────────────────────────────────┼────────────────────────┼───────────────┤\n",
              "│ conv2d_4 (\u001b[38;5;33mConv2D\u001b[0m)               │ (\u001b[38;5;45mNone\u001b[0m, \u001b[38;5;34m30\u001b[0m, \u001b[38;5;34m30\u001b[0m, \u001b[38;5;34m128\u001b[0m)    │        \u001b[38;5;34m73,856\u001b[0m │\n",
              "├─────────────────────────────────┼────────────────────────┼───────────────┤\n",
              "│ conv2d_5 (\u001b[38;5;33mConv2D\u001b[0m)               │ (\u001b[38;5;45mNone\u001b[0m, \u001b[38;5;34m28\u001b[0m, \u001b[38;5;34m28\u001b[0m, \u001b[38;5;34m128\u001b[0m)    │       \u001b[38;5;34m147,584\u001b[0m │\n",
              "├─────────────────────────────────┼────────────────────────┼───────────────┤\n",
              "│ max_pooling2d_2 (\u001b[38;5;33mMaxPooling2D\u001b[0m)  │ (\u001b[38;5;45mNone\u001b[0m, \u001b[38;5;34m14\u001b[0m, \u001b[38;5;34m14\u001b[0m, \u001b[38;5;34m128\u001b[0m)    │             \u001b[38;5;34m0\u001b[0m │\n",
              "├─────────────────────────────────┼────────────────────────┼───────────────┤\n",
              "│ conv2d_6 (\u001b[38;5;33mConv2D\u001b[0m)               │ (\u001b[38;5;45mNone\u001b[0m, \u001b[38;5;34m14\u001b[0m, \u001b[38;5;34m14\u001b[0m, \u001b[38;5;34m256\u001b[0m)    │       \u001b[38;5;34m295,168\u001b[0m │\n",
              "├─────────────────────────────────┼────────────────────────┼───────────────┤\n",
              "│ conv2d_7 (\u001b[38;5;33mConv2D\u001b[0m)               │ (\u001b[38;5;45mNone\u001b[0m, \u001b[38;5;34m12\u001b[0m, \u001b[38;5;34m12\u001b[0m, \u001b[38;5;34m256\u001b[0m)    │       \u001b[38;5;34m590,080\u001b[0m │\n",
              "├─────────────────────────────────┼────────────────────────┼───────────────┤\n",
              "│ max_pooling2d_3 (\u001b[38;5;33mMaxPooling2D\u001b[0m)  │ (\u001b[38;5;45mNone\u001b[0m, \u001b[38;5;34m6\u001b[0m, \u001b[38;5;34m6\u001b[0m, \u001b[38;5;34m256\u001b[0m)      │             \u001b[38;5;34m0\u001b[0m │\n",
              "├─────────────────────────────────┼────────────────────────┼───────────────┤\n",
              "│ conv2d_8 (\u001b[38;5;33mConv2D\u001b[0m)               │ (\u001b[38;5;45mNone\u001b[0m, \u001b[38;5;34m6\u001b[0m, \u001b[38;5;34m6\u001b[0m, \u001b[38;5;34m512\u001b[0m)      │     \u001b[38;5;34m1,180,160\u001b[0m │\n",
              "├─────────────────────────────────┼────────────────────────┼───────────────┤\n",
              "│ conv2d_9 (\u001b[38;5;33mConv2D\u001b[0m)               │ (\u001b[38;5;45mNone\u001b[0m, \u001b[38;5;34m4\u001b[0m, \u001b[38;5;34m4\u001b[0m, \u001b[38;5;34m512\u001b[0m)      │     \u001b[38;5;34m2,359,808\u001b[0m │\n",
              "├─────────────────────────────────┼────────────────────────┼───────────────┤\n",
              "│ max_pooling2d_4 (\u001b[38;5;33mMaxPooling2D\u001b[0m)  │ (\u001b[38;5;45mNone\u001b[0m, \u001b[38;5;34m2\u001b[0m, \u001b[38;5;34m2\u001b[0m, \u001b[38;5;34m512\u001b[0m)      │             \u001b[38;5;34m0\u001b[0m │\n",
              "├─────────────────────────────────┼────────────────────────┼───────────────┤\n",
              "│ dropout (\u001b[38;5;33mDropout\u001b[0m)               │ (\u001b[38;5;45mNone\u001b[0m, \u001b[38;5;34m2\u001b[0m, \u001b[38;5;34m2\u001b[0m, \u001b[38;5;34m512\u001b[0m)      │             \u001b[38;5;34m0\u001b[0m │\n",
              "├─────────────────────────────────┼────────────────────────┼───────────────┤\n",
              "│ flatten (\u001b[38;5;33mFlatten\u001b[0m)               │ (\u001b[38;5;45mNone\u001b[0m, \u001b[38;5;34m2048\u001b[0m)           │             \u001b[38;5;34m0\u001b[0m │\n",
              "├─────────────────────────────────┼────────────────────────┼───────────────┤\n",
              "│ dense (\u001b[38;5;33mDense\u001b[0m)                   │ (\u001b[38;5;45mNone\u001b[0m, \u001b[38;5;34m1500\u001b[0m)           │     \u001b[38;5;34m3,073,500\u001b[0m │\n",
              "├─────────────────────────────────┼────────────────────────┼───────────────┤\n",
              "│ dropout_1 (\u001b[38;5;33mDropout\u001b[0m)             │ (\u001b[38;5;45mNone\u001b[0m, \u001b[38;5;34m1500\u001b[0m)           │             \u001b[38;5;34m0\u001b[0m │\n",
              "├─────────────────────────────────┼────────────────────────┼───────────────┤\n",
              "│ dense_1 (\u001b[38;5;33mDense\u001b[0m)                 │ (\u001b[38;5;45mNone\u001b[0m, \u001b[38;5;34m38\u001b[0m)             │        \u001b[38;5;34m57,038\u001b[0m │\n",
              "└─────────────────────────────────┴────────────────────────┴───────────────┘\n"
            ],
            "text/html": [
              "<pre style=\"white-space:pre;overflow-x:auto;line-height:normal;font-family:Menlo,'DejaVu Sans Mono',consolas,'Courier New',monospace\">┏━━━━━━━━━━━━━━━━━━━━━━━━━━━━━━━━━┳━━━━━━━━━━━━━━━━━━━━━━━━┳━━━━━━━━━━━━━━━┓\n",
              "┃<span style=\"font-weight: bold\"> Layer (type)                    </span>┃<span style=\"font-weight: bold\"> Output Shape           </span>┃<span style=\"font-weight: bold\">       Param # </span>┃\n",
              "┡━━━━━━━━━━━━━━━━━━━━━━━━━━━━━━━━━╇━━━━━━━━━━━━━━━━━━━━━━━━╇━━━━━━━━━━━━━━━┩\n",
              "│ conv2d (<span style=\"color: #0087ff; text-decoration-color: #0087ff\">Conv2D</span>)                 │ (<span style=\"color: #00d7ff; text-decoration-color: #00d7ff\">None</span>, <span style=\"color: #00af00; text-decoration-color: #00af00\">128</span>, <span style=\"color: #00af00; text-decoration-color: #00af00\">128</span>, <span style=\"color: #00af00; text-decoration-color: #00af00\">32</span>)   │           <span style=\"color: #00af00; text-decoration-color: #00af00\">896</span> │\n",
              "├─────────────────────────────────┼────────────────────────┼───────────────┤\n",
              "│ conv2d_1 (<span style=\"color: #0087ff; text-decoration-color: #0087ff\">Conv2D</span>)               │ (<span style=\"color: #00d7ff; text-decoration-color: #00d7ff\">None</span>, <span style=\"color: #00af00; text-decoration-color: #00af00\">126</span>, <span style=\"color: #00af00; text-decoration-color: #00af00\">126</span>, <span style=\"color: #00af00; text-decoration-color: #00af00\">32</span>)   │         <span style=\"color: #00af00; text-decoration-color: #00af00\">9,248</span> │\n",
              "├─────────────────────────────────┼────────────────────────┼───────────────┤\n",
              "│ max_pooling2d (<span style=\"color: #0087ff; text-decoration-color: #0087ff\">MaxPooling2D</span>)    │ (<span style=\"color: #00d7ff; text-decoration-color: #00d7ff\">None</span>, <span style=\"color: #00af00; text-decoration-color: #00af00\">63</span>, <span style=\"color: #00af00; text-decoration-color: #00af00\">63</span>, <span style=\"color: #00af00; text-decoration-color: #00af00\">32</span>)     │             <span style=\"color: #00af00; text-decoration-color: #00af00\">0</span> │\n",
              "├─────────────────────────────────┼────────────────────────┼───────────────┤\n",
              "│ conv2d_2 (<span style=\"color: #0087ff; text-decoration-color: #0087ff\">Conv2D</span>)               │ (<span style=\"color: #00d7ff; text-decoration-color: #00d7ff\">None</span>, <span style=\"color: #00af00; text-decoration-color: #00af00\">63</span>, <span style=\"color: #00af00; text-decoration-color: #00af00\">63</span>, <span style=\"color: #00af00; text-decoration-color: #00af00\">64</span>)     │        <span style=\"color: #00af00; text-decoration-color: #00af00\">18,496</span> │\n",
              "├─────────────────────────────────┼────────────────────────┼───────────────┤\n",
              "│ conv2d_3 (<span style=\"color: #0087ff; text-decoration-color: #0087ff\">Conv2D</span>)               │ (<span style=\"color: #00d7ff; text-decoration-color: #00d7ff\">None</span>, <span style=\"color: #00af00; text-decoration-color: #00af00\">61</span>, <span style=\"color: #00af00; text-decoration-color: #00af00\">61</span>, <span style=\"color: #00af00; text-decoration-color: #00af00\">64</span>)     │        <span style=\"color: #00af00; text-decoration-color: #00af00\">36,928</span> │\n",
              "├─────────────────────────────────┼────────────────────────┼───────────────┤\n",
              "│ max_pooling2d_1 (<span style=\"color: #0087ff; text-decoration-color: #0087ff\">MaxPooling2D</span>)  │ (<span style=\"color: #00d7ff; text-decoration-color: #00d7ff\">None</span>, <span style=\"color: #00af00; text-decoration-color: #00af00\">30</span>, <span style=\"color: #00af00; text-decoration-color: #00af00\">30</span>, <span style=\"color: #00af00; text-decoration-color: #00af00\">64</span>)     │             <span style=\"color: #00af00; text-decoration-color: #00af00\">0</span> │\n",
              "├─────────────────────────────────┼────────────────────────┼───────────────┤\n",
              "│ conv2d_4 (<span style=\"color: #0087ff; text-decoration-color: #0087ff\">Conv2D</span>)               │ (<span style=\"color: #00d7ff; text-decoration-color: #00d7ff\">None</span>, <span style=\"color: #00af00; text-decoration-color: #00af00\">30</span>, <span style=\"color: #00af00; text-decoration-color: #00af00\">30</span>, <span style=\"color: #00af00; text-decoration-color: #00af00\">128</span>)    │        <span style=\"color: #00af00; text-decoration-color: #00af00\">73,856</span> │\n",
              "├─────────────────────────────────┼────────────────────────┼───────────────┤\n",
              "│ conv2d_5 (<span style=\"color: #0087ff; text-decoration-color: #0087ff\">Conv2D</span>)               │ (<span style=\"color: #00d7ff; text-decoration-color: #00d7ff\">None</span>, <span style=\"color: #00af00; text-decoration-color: #00af00\">28</span>, <span style=\"color: #00af00; text-decoration-color: #00af00\">28</span>, <span style=\"color: #00af00; text-decoration-color: #00af00\">128</span>)    │       <span style=\"color: #00af00; text-decoration-color: #00af00\">147,584</span> │\n",
              "├─────────────────────────────────┼────────────────────────┼───────────────┤\n",
              "│ max_pooling2d_2 (<span style=\"color: #0087ff; text-decoration-color: #0087ff\">MaxPooling2D</span>)  │ (<span style=\"color: #00d7ff; text-decoration-color: #00d7ff\">None</span>, <span style=\"color: #00af00; text-decoration-color: #00af00\">14</span>, <span style=\"color: #00af00; text-decoration-color: #00af00\">14</span>, <span style=\"color: #00af00; text-decoration-color: #00af00\">128</span>)    │             <span style=\"color: #00af00; text-decoration-color: #00af00\">0</span> │\n",
              "├─────────────────────────────────┼────────────────────────┼───────────────┤\n",
              "│ conv2d_6 (<span style=\"color: #0087ff; text-decoration-color: #0087ff\">Conv2D</span>)               │ (<span style=\"color: #00d7ff; text-decoration-color: #00d7ff\">None</span>, <span style=\"color: #00af00; text-decoration-color: #00af00\">14</span>, <span style=\"color: #00af00; text-decoration-color: #00af00\">14</span>, <span style=\"color: #00af00; text-decoration-color: #00af00\">256</span>)    │       <span style=\"color: #00af00; text-decoration-color: #00af00\">295,168</span> │\n",
              "├─────────────────────────────────┼────────────────────────┼───────────────┤\n",
              "│ conv2d_7 (<span style=\"color: #0087ff; text-decoration-color: #0087ff\">Conv2D</span>)               │ (<span style=\"color: #00d7ff; text-decoration-color: #00d7ff\">None</span>, <span style=\"color: #00af00; text-decoration-color: #00af00\">12</span>, <span style=\"color: #00af00; text-decoration-color: #00af00\">12</span>, <span style=\"color: #00af00; text-decoration-color: #00af00\">256</span>)    │       <span style=\"color: #00af00; text-decoration-color: #00af00\">590,080</span> │\n",
              "├─────────────────────────────────┼────────────────────────┼───────────────┤\n",
              "│ max_pooling2d_3 (<span style=\"color: #0087ff; text-decoration-color: #0087ff\">MaxPooling2D</span>)  │ (<span style=\"color: #00d7ff; text-decoration-color: #00d7ff\">None</span>, <span style=\"color: #00af00; text-decoration-color: #00af00\">6</span>, <span style=\"color: #00af00; text-decoration-color: #00af00\">6</span>, <span style=\"color: #00af00; text-decoration-color: #00af00\">256</span>)      │             <span style=\"color: #00af00; text-decoration-color: #00af00\">0</span> │\n",
              "├─────────────────────────────────┼────────────────────────┼───────────────┤\n",
              "│ conv2d_8 (<span style=\"color: #0087ff; text-decoration-color: #0087ff\">Conv2D</span>)               │ (<span style=\"color: #00d7ff; text-decoration-color: #00d7ff\">None</span>, <span style=\"color: #00af00; text-decoration-color: #00af00\">6</span>, <span style=\"color: #00af00; text-decoration-color: #00af00\">6</span>, <span style=\"color: #00af00; text-decoration-color: #00af00\">512</span>)      │     <span style=\"color: #00af00; text-decoration-color: #00af00\">1,180,160</span> │\n",
              "├─────────────────────────────────┼────────────────────────┼───────────────┤\n",
              "│ conv2d_9 (<span style=\"color: #0087ff; text-decoration-color: #0087ff\">Conv2D</span>)               │ (<span style=\"color: #00d7ff; text-decoration-color: #00d7ff\">None</span>, <span style=\"color: #00af00; text-decoration-color: #00af00\">4</span>, <span style=\"color: #00af00; text-decoration-color: #00af00\">4</span>, <span style=\"color: #00af00; text-decoration-color: #00af00\">512</span>)      │     <span style=\"color: #00af00; text-decoration-color: #00af00\">2,359,808</span> │\n",
              "├─────────────────────────────────┼────────────────────────┼───────────────┤\n",
              "│ max_pooling2d_4 (<span style=\"color: #0087ff; text-decoration-color: #0087ff\">MaxPooling2D</span>)  │ (<span style=\"color: #00d7ff; text-decoration-color: #00d7ff\">None</span>, <span style=\"color: #00af00; text-decoration-color: #00af00\">2</span>, <span style=\"color: #00af00; text-decoration-color: #00af00\">2</span>, <span style=\"color: #00af00; text-decoration-color: #00af00\">512</span>)      │             <span style=\"color: #00af00; text-decoration-color: #00af00\">0</span> │\n",
              "├─────────────────────────────────┼────────────────────────┼───────────────┤\n",
              "│ dropout (<span style=\"color: #0087ff; text-decoration-color: #0087ff\">Dropout</span>)               │ (<span style=\"color: #00d7ff; text-decoration-color: #00d7ff\">None</span>, <span style=\"color: #00af00; text-decoration-color: #00af00\">2</span>, <span style=\"color: #00af00; text-decoration-color: #00af00\">2</span>, <span style=\"color: #00af00; text-decoration-color: #00af00\">512</span>)      │             <span style=\"color: #00af00; text-decoration-color: #00af00\">0</span> │\n",
              "├─────────────────────────────────┼────────────────────────┼───────────────┤\n",
              "│ flatten (<span style=\"color: #0087ff; text-decoration-color: #0087ff\">Flatten</span>)               │ (<span style=\"color: #00d7ff; text-decoration-color: #00d7ff\">None</span>, <span style=\"color: #00af00; text-decoration-color: #00af00\">2048</span>)           │             <span style=\"color: #00af00; text-decoration-color: #00af00\">0</span> │\n",
              "├─────────────────────────────────┼────────────────────────┼───────────────┤\n",
              "│ dense (<span style=\"color: #0087ff; text-decoration-color: #0087ff\">Dense</span>)                   │ (<span style=\"color: #00d7ff; text-decoration-color: #00d7ff\">None</span>, <span style=\"color: #00af00; text-decoration-color: #00af00\">1500</span>)           │     <span style=\"color: #00af00; text-decoration-color: #00af00\">3,073,500</span> │\n",
              "├─────────────────────────────────┼────────────────────────┼───────────────┤\n",
              "│ dropout_1 (<span style=\"color: #0087ff; text-decoration-color: #0087ff\">Dropout</span>)             │ (<span style=\"color: #00d7ff; text-decoration-color: #00d7ff\">None</span>, <span style=\"color: #00af00; text-decoration-color: #00af00\">1500</span>)           │             <span style=\"color: #00af00; text-decoration-color: #00af00\">0</span> │\n",
              "├─────────────────────────────────┼────────────────────────┼───────────────┤\n",
              "│ dense_1 (<span style=\"color: #0087ff; text-decoration-color: #0087ff\">Dense</span>)                 │ (<span style=\"color: #00d7ff; text-decoration-color: #00d7ff\">None</span>, <span style=\"color: #00af00; text-decoration-color: #00af00\">38</span>)             │        <span style=\"color: #00af00; text-decoration-color: #00af00\">57,038</span> │\n",
              "└─────────────────────────────────┴────────────────────────┴───────────────┘\n",
              "</pre>\n"
            ]
          },
          "metadata": {}
        },
        {
          "output_type": "display_data",
          "data": {
            "text/plain": [
              "\u001b[1m Total params: \u001b[0m\u001b[38;5;34m7,842,762\u001b[0m (29.92 MB)\n"
            ],
            "text/html": [
              "<pre style=\"white-space:pre;overflow-x:auto;line-height:normal;font-family:Menlo,'DejaVu Sans Mono',consolas,'Courier New',monospace\"><span style=\"font-weight: bold\"> Total params: </span><span style=\"color: #00af00; text-decoration-color: #00af00\">7,842,762</span> (29.92 MB)\n",
              "</pre>\n"
            ]
          },
          "metadata": {}
        },
        {
          "output_type": "display_data",
          "data": {
            "text/plain": [
              "\u001b[1m Trainable params: \u001b[0m\u001b[38;5;34m7,842,762\u001b[0m (29.92 MB)\n"
            ],
            "text/html": [
              "<pre style=\"white-space:pre;overflow-x:auto;line-height:normal;font-family:Menlo,'DejaVu Sans Mono',consolas,'Courier New',monospace\"><span style=\"font-weight: bold\"> Trainable params: </span><span style=\"color: #00af00; text-decoration-color: #00af00\">7,842,762</span> (29.92 MB)\n",
              "</pre>\n"
            ]
          },
          "metadata": {}
        },
        {
          "output_type": "display_data",
          "data": {
            "text/plain": [
              "\u001b[1m Non-trainable params: \u001b[0m\u001b[38;5;34m0\u001b[0m (0.00 B)\n"
            ],
            "text/html": [
              "<pre style=\"white-space:pre;overflow-x:auto;line-height:normal;font-family:Menlo,'DejaVu Sans Mono',consolas,'Courier New',monospace\"><span style=\"font-weight: bold\"> Non-trainable params: </span><span style=\"color: #00af00; text-decoration-color: #00af00\">0</span> (0.00 B)\n",
              "</pre>\n"
            ]
          },
          "metadata": {}
        }
      ],
      "source": [
        "cnn.summary()"
      ]
    },
    {
      "cell_type": "code",
      "execution_count": null,
      "metadata": {
        "colab": {
          "base_uri": "https://localhost:8080/"
        },
        "id": "7hQgfRxhVcBq",
        "outputId": "1df0f3b3-6844-4005-a1e3-fdcaea7d3ac5"
      },
      "outputs": [
        {
          "output_type": "stream",
          "name": "stdout",
          "text": [
            "Epoch 1/5\n",
            "\u001b[1m2197/2197\u001b[0m \u001b[32m━━━━━━━━━━━━━━━━━━━━\u001b[0m\u001b[37m\u001b[0m \u001b[1m167s\u001b[0m 70ms/step - accuracy: 0.3911 - loss: 2.1832 - val_accuracy: 0.8423 - val_loss: 0.5105\n",
            "Epoch 2/5\n",
            "\u001b[1m2197/2197\u001b[0m \u001b[32m━━━━━━━━━━━━━━━━━━━━\u001b[0m\u001b[37m\u001b[0m \u001b[1m137s\u001b[0m 62ms/step - accuracy: 0.8311 - loss: 0.5364 - val_accuracy: 0.9082 - val_loss: 0.2813\n",
            "Epoch 3/5\n",
            "\u001b[1m2197/2197\u001b[0m \u001b[32m━━━━━━━━━━━━━━━━━━━━\u001b[0m\u001b[37m\u001b[0m \u001b[1m137s\u001b[0m 62ms/step - accuracy: 0.9015 - loss: 0.3071 - val_accuracy: 0.9416 - val_loss: 0.1823\n",
            "Epoch 4/5\n",
            "\u001b[1m2197/2197\u001b[0m \u001b[32m━━━━━━━━━━━━━━━━━━━━\u001b[0m\u001b[37m\u001b[0m \u001b[1m136s\u001b[0m 62ms/step - accuracy: 0.9306 - loss: 0.2138 - val_accuracy: 0.9310 - val_loss: 0.2184\n",
            "Epoch 5/5\n",
            "\u001b[1m2197/2197\u001b[0m \u001b[32m━━━━━━━━━━━━━━━━━━━━\u001b[0m\u001b[37m\u001b[0m \u001b[1m143s\u001b[0m 62ms/step - accuracy: 0.9509 - loss: 0.1477 - val_accuracy: 0.9573 - val_loss: 0.1333\n"
          ]
        }
      ],
      "source": [
        "training_history = cnn.fit(x=training_set,validation_data=validation_set,epochs=5)"
      ]
    },
    {
      "cell_type": "markdown",
      "metadata": {
        "id": "E2GcWBiGWdtK"
      },
      "source": [
        "**Model Evaluation**"
      ]
    },
    {
      "cell_type": "code",
      "execution_count": null,
      "metadata": {
        "id": "LXZCRQZdWqSc",
        "colab": {
          "base_uri": "https://localhost:8080/"
        },
        "outputId": "3b32835d-e5c2-4bb5-f3ad-e9ed9b1d29cc"
      },
      "outputs": [
        {
          "output_type": "stream",
          "name": "stdout",
          "text": [
            "\u001b[1m2197/2197\u001b[0m \u001b[32m━━━━━━━━━━━━━━━━━━━━\u001b[0m\u001b[37m\u001b[0m \u001b[1m62s\u001b[0m 28ms/step - accuracy: 0.9792 - loss: 0.0615\n",
            "Training accuracy: 0.9818336963653564\n"
          ]
        }
      ],
      "source": [
        "#Training set Accuracy\n",
        "train_loss, train_acc = cnn.evaluate(training_set)\n",
        "print('Training accuracy:', train_acc)"
      ]
    },
    {
      "cell_type": "code",
      "execution_count": null,
      "metadata": {
        "id": "XY5x2YRTZEci",
        "colab": {
          "base_uri": "https://localhost:8080/"
        },
        "outputId": "07cd5f14-7a8b-4171-c97d-e00bb234e5df"
      },
      "outputs": [
        {
          "output_type": "stream",
          "name": "stdout",
          "text": [
            "\u001b[1m550/550\u001b[0m \u001b[32m━━━━━━━━━━━━━━━━━━━━\u001b[0m\u001b[37m\u001b[0m \u001b[1m12s\u001b[0m 22ms/step - accuracy: 0.9593 - loss: 0.1335\n",
            "Validation accuracy: 0.9573184847831726\n"
          ]
        }
      ],
      "source": [
        "#Validation set Accuracy\n",
        "val_loss, val_acc = cnn.evaluate(validation_set)\n",
        "print('Validation accuracy:', val_acc)"
      ]
    },
    {
      "cell_type": "markdown",
      "metadata": {
        "id": "brgU351NZG1p"
      },
      "source": [
        "**Saving Model**"
      ]
    },
    {
      "cell_type": "code",
      "execution_count": null,
      "metadata": {
        "id": "EZBFLwOyZMms"
      },
      "outputs": [],
      "source": [
        "cnn.save('trained_plant_disease_model.keras')#/content/drive/MyDrive/Plant disease prediction/trained_plant_disease_model.keras"
      ]
    },
    {
      "cell_type": "code",
      "execution_count": null,
      "metadata": {
        "id": "sHFwX8oOWdbx",
        "colab": {
          "base_uri": "https://localhost:8080/"
        },
        "outputId": "1e194eb6-faa2-49b6-8307-06a79ab196f5"
      },
      "outputs": [
        {
          "output_type": "stream",
          "name": "stdout",
          "text": [
            "Model file size: 89.84 MB\n"
          ]
        }
      ],
      "source": [
        "import os\n",
        "\n",
        "model_path = '/content/drive/MyDrive/Plant disease prediction/trained_plant_disease_model.keras'\n",
        "\n",
        "if os.path.exists(model_path):\n",
        "    size_bytes = os.path.getsize(model_path)\n",
        "    size_mb = size_bytes / (1024 * 1024)\n",
        "    print(f\"Model file size: {size_mb:.2f} MB\")\n",
        "else:\n",
        "    print(\"Model file not found.\")\n"
      ]
    },
    {
      "cell_type": "code",
      "execution_count": null,
      "metadata": {
        "id": "9vJ1mMfqYTkU"
      },
      "outputs": [],
      "source": [
        "# Use functional API input definition\n",
        "from tensorflow.keras.models import Model\n",
        "from tensorflow.keras.layers import Input, Conv2D, MaxPooling2D, Flatten, Dense\n",
        "\n",
        "inputs = Input(shape=(128, 128, 3))  # <== Use `Input`, not `InputLayer`\n",
        "x = Conv2D(32, (3,3), activation='relu')(inputs)\n",
        "x = MaxPooling2D((2,2))(x)\n",
        "x = Flatten()(x)\n",
        "outputs = Dense(4, activation='softmax')(x)\n",
        "\n",
        "cnn = Model(inputs, outputs)\n",
        "\n",
        "# Compile and train the model as usual...\n",
        "cnn.compile(optimizer='adam', loss='categorical_crossentropy', metrics=['accuracy'])\n",
        "\n",
        "# After training\n",
        "cnn.save('trained_plant_disease_model.keras')\n"
      ]
    },
    {
      "cell_type": "code",
      "execution_count": null,
      "metadata": {
        "id": "oxR6eBddZdYe",
        "colab": {
          "base_uri": "https://localhost:8080/"
        },
        "outputId": "dc6715ce-b311-43b0-ded8-3512d402af03"
      },
      "outputs": [
        {
          "output_type": "stream",
          "name": "stderr",
          "text": [
            "WARNING:absl:You are saving your model as an HDF5 file via `model.save()` or `keras.saving.save_model(model)`. This file format is considered legacy. We recommend using instead the native Keras format, e.g. `model.save('my_model.keras')` or `keras.saving.save_model(model, 'my_model.keras')`. \n"
          ]
        }
      ],
      "source": [
        "cnn.save('trained_plant_disease_model.h5')\n"
      ]
    },
    {
      "cell_type": "code",
      "execution_count": null,
      "metadata": {
        "id": "x7OvYtwjbB27",
        "colab": {
          "base_uri": "https://localhost:8080/",
          "height": 17
        },
        "outputId": "99276322-aa91-4a96-9156-9167ef4dec2c"
      },
      "outputs": [
        {
          "output_type": "display_data",
          "data": {
            "text/plain": [
              "<IPython.core.display.Javascript object>"
            ],
            "application/javascript": [
              "\n",
              "    async function download(id, filename, size) {\n",
              "      if (!google.colab.kernel.accessAllowed) {\n",
              "        return;\n",
              "      }\n",
              "      const div = document.createElement('div');\n",
              "      const label = document.createElement('label');\n",
              "      label.textContent = `Downloading \"${filename}\": `;\n",
              "      div.appendChild(label);\n",
              "      const progress = document.createElement('progress');\n",
              "      progress.max = size;\n",
              "      div.appendChild(progress);\n",
              "      document.body.appendChild(div);\n",
              "\n",
              "      const buffers = [];\n",
              "      let downloaded = 0;\n",
              "\n",
              "      const channel = await google.colab.kernel.comms.open(id);\n",
              "      // Send a message to notify the kernel that we're ready.\n",
              "      channel.send({})\n",
              "\n",
              "      for await (const message of channel.messages) {\n",
              "        // Send a message to notify the kernel that we're ready.\n",
              "        channel.send({})\n",
              "        if (message.buffers) {\n",
              "          for (const buffer of message.buffers) {\n",
              "            buffers.push(buffer);\n",
              "            downloaded += buffer.byteLength;\n",
              "            progress.value = downloaded;\n",
              "          }\n",
              "        }\n",
              "      }\n",
              "      const blob = new Blob(buffers, {type: 'application/binary'});\n",
              "      const a = document.createElement('a');\n",
              "      a.href = window.URL.createObjectURL(blob);\n",
              "      a.download = filename;\n",
              "      div.appendChild(a);\n",
              "      a.click();\n",
              "      div.remove();\n",
              "    }\n",
              "  "
            ]
          },
          "metadata": {}
        },
        {
          "output_type": "display_data",
          "data": {
            "text/plain": [
              "<IPython.core.display.Javascript object>"
            ],
            "application/javascript": [
              "download(\"download_2bb54817-4e81-44ad-9367-c743d891abec\", \"trained_plant_disease_model.h5\", 2060424)"
            ]
          },
          "metadata": {}
        }
      ],
      "source": [
        "from google.colab import files\n",
        "files.download('trained_plant_disease_model.h5')\n"
      ]
    },
    {
      "cell_type": "code",
      "execution_count": null,
      "metadata": {
        "id": "ocDNDn-1bZVf",
        "colab": {
          "base_uri": "https://localhost:8080/"
        },
        "outputId": "5160f8f4-84f1-45ee-ca83-fab0a1686193"
      },
      "outputs": [
        {
          "output_type": "execute_result",
          "data": {
            "text/plain": [
              "{'accuracy': [0.59236079454422,\n",
              "  0.854655385017395,\n",
              "  0.9109894037246704,\n",
              "  0.9385305047035217,\n",
              "  0.955018162727356],\n",
              " 'loss': [1.3937807083129883,\n",
              "  0.4600495994091034,\n",
              "  0.27299684286117554,\n",
              "  0.1892135590314865,\n",
              "  0.13569514453411102],\n",
              " 'val_accuracy': [0.8423059582710266,\n",
              "  0.9082062244415283,\n",
              "  0.9415547251701355,\n",
              "  0.9310266375541687,\n",
              "  0.9573184847831726],\n",
              " 'val_loss': [0.5104859471321106,\n",
              "  0.2813146710395813,\n",
              "  0.18233513832092285,\n",
              "  0.21836014091968536,\n",
              "  0.13325679302215576]}"
            ]
          },
          "metadata": {},
          "execution_count": 37
        }
      ],
      "source": [
        "training_history.history #Return Dictionary of history"
      ]
    },
    {
      "cell_type": "code",
      "execution_count": null,
      "metadata": {
        "id": "CD5t0u6BbfaY"
      },
      "outputs": [],
      "source": [
        "#Recording History in json\n",
        "import json\n",
        "with open('training_hist.json','w') as f:\n",
        "  json.dump(training_history.history,f)"
      ]
    },
    {
      "cell_type": "code",
      "execution_count": null,
      "metadata": {
        "colab": {
          "background_save": true
        },
        "id": "_oNuOssdbtjp",
        "outputId": "c93df917-f1dd-4bde-ad8c-589916379054"
      },
      "outputs": [
        {
          "data": {
            "application/javascript": [
              "\n",
              "    async function download(id, filename, size) {\n",
              "      if (!google.colab.kernel.accessAllowed) {\n",
              "        return;\n",
              "      }\n",
              "      const div = document.createElement('div');\n",
              "      const label = document.createElement('label');\n",
              "      label.textContent = `Downloading \"${filename}\": `;\n",
              "      div.appendChild(label);\n",
              "      const progress = document.createElement('progress');\n",
              "      progress.max = size;\n",
              "      div.appendChild(progress);\n",
              "      document.body.appendChild(div);\n",
              "\n",
              "      const buffers = [];\n",
              "      let downloaded = 0;\n",
              "\n",
              "      const channel = await google.colab.kernel.comms.open(id);\n",
              "      // Send a message to notify the kernel that we're ready.\n",
              "      channel.send({})\n",
              "\n",
              "      for await (const message of channel.messages) {\n",
              "        // Send a message to notify the kernel that we're ready.\n",
              "        channel.send({})\n",
              "        if (message.buffers) {\n",
              "          for (const buffer of message.buffers) {\n",
              "            buffers.push(buffer);\n",
              "            downloaded += buffer.byteLength;\n",
              "            progress.value = downloaded;\n",
              "          }\n",
              "        }\n",
              "      }\n",
              "      const blob = new Blob(buffers, {type: 'application/binary'});\n",
              "      const a = document.createElement('a');\n",
              "      a.href = window.URL.createObjectURL(blob);\n",
              "      a.download = filename;\n",
              "      div.appendChild(a);\n",
              "      a.click();\n",
              "      div.remove();\n",
              "    }\n",
              "  "
            ],
            "text/plain": [
              "<IPython.core.display.Javascript object>"
            ]
          },
          "metadata": {},
          "output_type": "display_data"
        },
        {
          "data": {
            "application/javascript": [
              "download(\"download_2e5297b9-7f6f-491d-a16f-d4837f5c88c9\", \"training_hist.json\", 463)"
            ],
            "text/plain": [
              "<IPython.core.display.Javascript object>"
            ]
          },
          "metadata": {},
          "output_type": "display_data"
        }
      ],
      "source": [
        "from google.colab import files\n",
        "\n",
        "files.download('training_hist.json')\n"
      ]
    },
    {
      "cell_type": "code",
      "execution_count": null,
      "metadata": {
        "colab": {
          "background_save": true
        },
        "id": "MXu4lts8b1gs",
        "outputId": "8d350458-064e-472c-e45a-e44a3fe61e26"
      },
      "outputs": [
        {
          "name": "stdout",
          "output_type": "stream",
          "text": [
            "dict_keys(['accuracy', 'loss', 'val_accuracy', 'val_loss'])\n"
          ]
        }
      ],
      "source": [
        "print(training_history.history.keys())"
      ]
    },
    {
      "cell_type": "markdown",
      "metadata": {
        "id": "e-kLgPOIb52n"
      },
      "source": [
        "**Accuracy Visualization**"
      ]
    },
    {
      "cell_type": "code",
      "execution_count": null,
      "metadata": {
        "colab": {
          "background_save": true
        },
        "id": "T0BgkJJqb7D3",
        "outputId": "810c7b37-7c6d-47d6-ec55-7244ec8bd98d"
      },
      "outputs": [
        {
          "data": {
            "image/png": "[encoded data removed]",
            "text/plain": [
              "<Figure size 640x480 with 1 Axes>"
            ]
          },
          "metadata": {},
          "output_type": "display_data"
        }
      ],
      "source": [
        "import matplotlib.pyplot as plt\n",
        "\n",
        "# Ensure epochs match the available data\n",
        "epochs = list(range(1, len(training_history.history['accuracy']) + 1))\n",
        "\n",
        "plt.plot(epochs, training_history.history['accuracy'], color='red', label='Training Accuracy')\n",
        "plt.plot(epochs, training_history.history['val_accuracy'], color='blue', label='Validation Accuracy')\n",
        "\n",
        "plt.xlabel('No. of Epochs')\n",
        "plt.ylabel('Accuracy')\n",
        "plt.title('Visualization of Accuracy Result')\n",
        "plt.legend()\n",
        "plt.show()\n"
      ]
    },
    {
      "cell_type": "markdown",
      "metadata": {
        "id": "mTlXfA2VcWsO"
      },
      "source": [
        "**Some other metrics for model evaluation**"
      ]
    },
    {
      "cell_type": "code",
      "execution_count": null,
      "metadata": {
        "colab": {
          "background_save": true
        },
        "id": "i9Pw5IEGcZcF"
      },
      "outputs": [],
      "source": [
        "class_name = validation_set.class_names"
      ]
    },
    {
      "cell_type": "code",
      "execution_count": null,
      "metadata": {
        "colab": {
          "background_save": true
        },
        "id": "c45Vcma_cs6G",
        "outputId": "c8d7d23b-7be1-4e6f-b9d1-a3cd3457ccce"
      },
      "outputs": [
        {
          "name": "stdout",
          "output_type": "stream",
          "text": [
            "Found 17572 files belonging to 38 classes.\n"
          ]
        }
      ],
      "source": [
        "import tensorflow as tf\n",
        "\n",
        "# Define the correct test dataset directory path\n",
        "test_dir = \"/content/New Plant Diseases Dataset(Augmented)/New Plant Diseases Dataset(Augmented)/valid\"\n",
        "\n",
        "# Load test dataset\n",
        "test_set = tf.keras.utils.image_dataset_from_directory(\n",
        "    directory=test_dir,  # Corrected path\n",
        "    labels=\"inferred\",\n",
        "    label_mode=\"categorical\",\n",
        "    batch_size=1,\n",
        "    image_size=(128, 128),\n",
        "    shuffle=False, # No shuffle for test set\n",
        "    seed=None,\n",
        "    validation_split=None,\n",
        "    subset=None,\n",
        "    interpolation=\"bilinear\",\n",
        "    follow_links=False,\n",
        "    crop_to_aspect_ratio=False\n",
        ")"
      ]
    },
    {
      "cell_type": "code",
      "execution_count": null,
      "metadata": {
        "colab": {
          "background_save": true
        },
        "id": "2_9gZf4QcwSf",
        "outputId": "14aa12b0-65d0-4263-ac34-3f7d43d3cbdc"
      },
      "outputs": [
        {
          "name": "stdout",
          "output_type": "stream",
          "text": [
            "\u001b[1m17572/17572\u001b[0m \u001b[32m━━━━━━━━━━━━━━━━━━━━\u001b[0m\u001b[37m\u001b[0m \u001b[1m35s\u001b[0m 2ms/step\n"
          ]
        }
      ],
      "source": [
        "y_pred = cnn.predict(test_set)\n",
        "predicted_categories = tf.argmax(y_pred, axis=1)"
      ]
    },
    {
      "cell_type": "code",
      "execution_count": null,
      "metadata": {
        "colab": {
          "background_save": true
        },
        "id": "Iih_TqiUdIuE"
      },
      "outputs": [],
      "source": [
        "true_categories = tf.concat([y for x, y in test_set], axis=0)\n",
        "Y_true = tf.argmax(true_categories, axis=1)"
      ]
    },
    {
      "cell_type": "code",
      "execution_count": null,
      "metadata": {
        "colab": {
          "background_save": true
        },
        "id": "BiMrf8VvdLyT",
        "outputId": "16873df6-4654-4de1-f197-6c7075aa894d"
      },
      "outputs": [
        {
          "data": {
            "text/plain": [
              "<tf.Tensor: shape=(17572,), dtype=int64, numpy=array([ 0,  0,  0, ..., 37, 37, 37])>"
            ]
          },
          "execution_count": 46,
          "metadata": {},
          "output_type": "execute_result"
        }
      ],
      "source": [
        "Y_true"
      ]
    },
    {
      "cell_type": "code",
      "execution_count": null,
      "metadata": {
        "colab": {
          "background_save": true
        },
        "id": "fR0btqNJdaJA",
        "outputId": "b8c893bc-99d4-445f-ac2a-6965be5bd743"
      },
      "outputs": [
        {
          "data": {
            "text/plain": [
              "<tf.Tensor: shape=(17572,), dtype=int64, numpy=array([3, 3, 3, ..., 3, 3, 3])>"
            ]
          },
          "execution_count": 47,
          "metadata": {},
          "output_type": "execute_result"
        }
      ],
      "source": [
        "predicted_categories"
      ]
    },
    {
      "cell_type": "code",
      "execution_count": null,
      "metadata": {
        "colab": {
          "background_save": true
        },
        "id": "55MCvYSgdc6e"
      },
      "outputs": [],
      "source": [
        "from sklearn.metrics import confusion_matrix,classification_report\n",
        "cm = confusion_matrix(Y_true,predicted_categories)"
      ]
    },
    {
      "cell_type": "code",
      "execution_count": null,
      "metadata": {
        "colab": {
          "background_save": true
        },
        "id": "vajDi9MadfFK",
        "outputId": "9df58d84-21de-465c-b144-e5e2f33192c1"
      },
      "outputs": [
        {
          "name": "stdout",
          "output_type": "stream",
          "text": [
            "                                                    precision    recall  f1-score   support\n",
            "\n",
            "                                Apple___Apple_scab       0.00      0.00      0.00       504\n",
            "                                 Apple___Black_rot       0.00      0.00      0.00       497\n",
            "                          Apple___Cedar_apple_rust       0.00      0.00      0.00       440\n",
            "                                   Apple___healthy       0.03      1.00      0.06       502\n",
            "                               Blueberry___healthy       0.00      0.00      0.00       454\n",
            "          Cherry_(including_sour)___Powdery_mildew       0.00      0.00      0.00       421\n",
            "                 Cherry_(including_sour)___healthy       0.00      0.00      0.00       456\n",
            "Corn_(maize)___Cercospora_leaf_spot Gray_leaf_spot       0.00      0.00      0.00       410\n",
            "                       Corn_(maize)___Common_rust_       0.00      0.00      0.00       477\n",
            "               Corn_(maize)___Northern_Leaf_Blight       0.00      0.00      0.00       477\n",
            "                            Corn_(maize)___healthy       0.00      0.00      0.00       465\n",
            "                                 Grape___Black_rot       0.00      0.00      0.00       472\n",
            "                      Grape___Esca_(Black_Measles)       0.00      0.00      0.00       480\n",
            "        Grape___Leaf_blight_(Isariopsis_Leaf_Spot)       0.00      0.00      0.00       430\n",
            "                                   Grape___healthy       0.00      0.00      0.00       423\n",
            "          Orange___Haunglongbing_(Citrus_greening)       0.00      0.00      0.00       503\n",
            "                            Peach___Bacterial_spot       0.00      0.00      0.00       459\n",
            "                                   Peach___healthy       0.00      0.00      0.00       432\n",
            "                     Pepper,_bell___Bacterial_spot       0.00      0.00      0.00       478\n",
            "                            Pepper,_bell___healthy       0.00      0.00      0.00       497\n",
            "                             Potato___Early_blight       0.00      0.00      0.00       485\n",
            "                              Potato___Late_blight       0.00      0.00      0.00       485\n",
            "                                  Potato___healthy       0.00      0.00      0.00       456\n",
            "                               Raspberry___healthy       0.00      0.00      0.00       445\n",
            "                                 Soybean___healthy       0.00      0.00      0.00       505\n",
            "                           Squash___Powdery_mildew       0.00      0.00      0.00       434\n",
            "                          Strawberry___Leaf_scorch       0.00      0.00      0.00       444\n",
            "                              Strawberry___healthy       0.00      0.00      0.00       456\n",
            "                           Tomato___Bacterial_spot       0.00      0.00      0.00       425\n",
            "                             Tomato___Early_blight       0.00      0.00      0.00       480\n",
            "                              Tomato___Late_blight       0.00      0.00      0.00       463\n",
            "                                Tomato___Leaf_Mold       0.00      0.00      0.00       470\n",
            "                       Tomato___Septoria_leaf_spot       0.00      0.00      0.00       436\n",
            "     Tomato___Spider_mites Two-spotted_spider_mite       0.00      0.00      0.00       435\n",
            "                              Tomato___Target_Spot       0.00      0.00      0.00       457\n",
            "            Tomato___Tomato_Yellow_Leaf_Curl_Virus       0.00      0.00      0.00       490\n",
            "                      Tomato___Tomato_mosaic_virus       0.00      0.00      0.00       448\n",
            "                                  Tomato___healthy       0.00      0.00      0.00       481\n",
            "\n",
            "                                          accuracy                           0.03     17572\n",
            "                                         macro avg       0.00      0.03      0.00     17572\n",
            "                                      weighted avg       0.00      0.03      0.00     17572\n",
            "\n"
          ]
        },
        {
          "name": "stderr",
          "output_type": "stream",
          "text": [
            "/usr/local/lib/python3.11/dist-packages/sklearn/metrics/_classification.py:1565: UndefinedMetricWarning: Precision is ill-defined and being set to 0.0 in labels with no predicted samples. Use `zero_division` parameter to control this behavior.\n",
            "  _warn_prf(average, modifier, f\"{metric.capitalize()} is\", len(result))\n",
            "/usr/local/lib/python3.11/dist-packages/sklearn/metrics/_classification.py:1565: UndefinedMetricWarning: Precision is ill-defined and being set to 0.0 in labels with no predicted samples. Use `zero_division` parameter to control this behavior.\n",
            "  _warn_prf(average, modifier, f\"{metric.capitalize()} is\", len(result))\n",
            "/usr/local/lib/python3.11/dist-packages/sklearn/metrics/_classification.py:1565: UndefinedMetricWarning: Precision is ill-defined and being set to 0.0 in labels with no predicted samples. Use `zero_division` parameter to control this behavior.\n",
            "  _warn_prf(average, modifier, f\"{metric.capitalize()} is\", len(result))\n"
          ]
        }
      ],
      "source": [
        "# Precision Recall Fscore\n",
        "print(classification_report(Y_true,predicted_categories,target_names=class_name))"
      ]
    },
    {
      "cell_type": "markdown",
      "metadata": {
        "id": "HQZKukJAdiu1"
      },
      "source": [
        "**Confusion Matrix Visualization**"
      ]
    },
    {
      "cell_type": "code",
      "execution_count": null,
      "metadata": {
        "id": "vX33x-pTdk_c"
      },
      "outputs": [],
      "source": [
        "plt.figure(figsize=(40, 40))\n",
        "sns.heatmap(cm,annot=True,annot_kws={\"size\": 10})\n",
        "\n",
        "plt.xlabel('Predicted Class',fontsize = 20)\n",
        "plt.ylabel('Actual Class',fontsize = 20)\n",
        "plt.title('Plant Disease Prediction Confusion Matrix',fontsize = 25)\n",
        "plt.show()"
      ]
    },
    {
      "cell_type": "code",
      "execution_count": null,
      "metadata": {
        "id": "7vgeXVH5fXya",
        "colab": {
          "base_uri": "https://localhost:8080/"
        },
        "outputId": "ce6c2b72-232e-4099-9a74-68a8aadccc71"
      },
      "outputs": [
        {
          "output_type": "stream",
          "name": "stdout",
          "text": [
            "Drive already mounted at /content/drive; to attempt to forcibly remount, call drive.mount(\"/content/drive\", force_remount=True).\n"
          ]
        }
      ],
      "source": [
        "from google.colab import drive\n",
        "drive.mount('/content/drive')"
      ]
    },
    {
      "cell_type": "code",
      "source": [
        "import os\n",
        "\n",
        "# Replace with your actual dataset path\n",
        "dataset_path = \"/content/new plant diseases dataset(augmented)/New Plant Diseases Dataset(Augmented)/train\"\n",
        "\n",
        "# Get class names in sorted order\n",
        "class_names = sorted(os.listdir(dataset_path))\n",
        "print(\"Number of classes:\", len(class_names))\n",
        "print(\"Class Names:\")\n",
        "for i, name in enumerate(class_names):\n",
        "    print(f\"{i}: {name}\")\n"
      ],
      "metadata": {
        "colab": {
          "base_uri": "https://localhost:8080/"
        },
        "id": "_ojfdiQWRAAa",
        "outputId": "af5b954e-defd-4466-f5d1-9c3640fce6de"
      },
      "execution_count": null,
      "outputs": [
        {
          "output_type": "stream",
          "name": "stdout",
          "text": [
            "Number of classes: 38\n",
            "Class Names:\n",
            "0: Apple___Apple_scab\n",
            "1: Apple___Black_rot\n",
            "2: Apple___Cedar_apple_rust\n",
            "3: Apple___healthy\n",
            "4: Blueberry___healthy\n",
            "5: Cherry_(including_sour)___Powdery_mildew\n",
            "6: Cherry_(including_sour)___healthy\n",
            "7: Corn_(maize)___Cercospora_leaf_spot Gray_leaf_spot\n",
            "8: Corn_(maize)___Common_rust_\n",
            "9: Corn_(maize)___Northern_Leaf_Blight\n",
            "10: Corn_(maize)___healthy\n",
            "11: Grape___Black_rot\n",
            "12: Grape___Esca_(Black_Measles)\n",
            "13: Grape___Leaf_blight_(Isariopsis_Leaf_Spot)\n",
            "14: Grape___healthy\n",
            "15: Orange___Haunglongbing_(Citrus_greening)\n",
            "16: Peach___Bacterial_spot\n",
            "17: Peach___healthy\n",
            "18: Pepper,_bell___Bacterial_spot\n",
            "19: Pepper,_bell___healthy\n",
            "20: Potato___Early_blight\n",
            "21: Potato___Late_blight\n",
            "22: Potato___healthy\n",
            "23: Raspberry___healthy\n",
            "24: Soybean___healthy\n",
            "25: Squash___Powdery_mildew\n",
            "26: Strawberry___Leaf_scorch\n",
            "27: Strawberry___healthy\n",
            "28: Tomato___Bacterial_spot\n",
            "29: Tomato___Early_blight\n",
            "30: Tomato___Late_blight\n",
            "31: Tomato___Leaf_Mold\n",
            "32: Tomato___Septoria_leaf_spot\n",
            "33: Tomato___Spider_mites Two-spotted_spider_mite\n",
            "34: Tomato___Target_Spot\n",
            "35: Tomato___Tomato_Yellow_Leaf_Curl_Virus\n",
            "36: Tomato___Tomato_mosaic_virus\n",
            "37: Tomato___healthy\n"
          ]
        }
      ]
    }
  ],
  "metadata": {
    "accelerator": "GPU",
    "colab": {
      "gpuType": "T4",
      "provenance": [],
      "include_colab_link": true
    },
    "kernelspec": {
      "display_name": "Python 3",
      "name": "python3"
    },
    "language_info": {
      "name": "python"
    }
  },
  "nbformat": 4,
  "nbformat_minor": 0
}